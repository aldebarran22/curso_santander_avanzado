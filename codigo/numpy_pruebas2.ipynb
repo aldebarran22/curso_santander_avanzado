{
 "cells": [
  {
   "cell_type": "markdown",
   "id": "12fe6a4f",
   "metadata": {},
   "source": [
    "## Pruebas con numpy 2"
   ]
  },
  {
   "cell_type": "code",
   "execution_count": 1,
   "id": "7b8ba994",
   "metadata": {},
   "outputs": [],
   "source": [
    "import numpy as np"
   ]
  },
  {
   "cell_type": "code",
   "execution_count": 2,
   "id": "92dc60df",
   "metadata": {},
   "outputs": [
    {
     "data": {
      "text/plain": [
       "array([[9, 8, 3, 5],\n",
       "       [4, 8, 7, 8],\n",
       "       [4, 3, 3, 3],\n",
       "       [8, 4, 3, 1],\n",
       "       [6, 1, 6, 5]])"
      ]
     },
     "execution_count": 2,
     "metadata": {},
     "output_type": "execute_result"
    }
   ],
   "source": [
    "m = np.random.randint(1,10,(5,4))\n",
    "m"
   ]
  },
  {
   "cell_type": "code",
   "execution_count": 3,
   "id": "cb4679ea",
   "metadata": {},
   "outputs": [
    {
     "data": {
      "text/plain": [
       "99"
      ]
     },
     "execution_count": 3,
     "metadata": {},
     "output_type": "execute_result"
    }
   ],
   "source": [
    "m.sum()"
   ]
  },
  {
   "cell_type": "code",
   "execution_count": 4,
   "id": "136b1df9",
   "metadata": {},
   "outputs": [
    {
     "data": {
      "text/plain": [
       "array([31, 24, 22, 22])"
      ]
     },
     "execution_count": 4,
     "metadata": {},
     "output_type": "execute_result"
    }
   ],
   "source": [
    "# Sumas por filas\n",
    "m.sum(axis=0)"
   ]
  },
  {
   "cell_type": "code",
   "execution_count": 5,
   "id": "17a0d816",
   "metadata": {},
   "outputs": [
    {
     "data": {
      "text/plain": [
       "array([25, 27, 13, 16, 18])"
      ]
     },
     "execution_count": 5,
     "metadata": {},
     "output_type": "execute_result"
    }
   ],
   "source": [
    "# Sumas por cols.\n",
    "m.sum(axis=1)"
   ]
  },
  {
   "cell_type": "code",
   "execution_count": 7,
   "id": "158ac43f",
   "metadata": {},
   "outputs": [
    {
     "data": {
      "text/plain": [
       "4.95"
      ]
     },
     "execution_count": 7,
     "metadata": {},
     "output_type": "execute_result"
    }
   ],
   "source": [
    "m.mean()"
   ]
  },
  {
   "cell_type": "code",
   "execution_count": 20,
   "id": "ba7780d6",
   "metadata": {},
   "outputs": [
    {
     "data": {
      "text/plain": [
       "array([ -0.21191763,  16.06520047, -13.79998606,  -3.3234671 ,\n",
       "        -5.11569628, -14.56974448,  -6.35694703,  -4.08268504,\n",
       "       -10.8965205 ,  12.84783422,   8.40338874,   2.42426618,\n",
       "         5.51042441,  -5.69843128,   9.59787411, -21.5029803 ,\n",
       "        17.45446235,   2.25046621, -14.83298766,   0.37255666])"
      ]
     },
     "execution_count": 20,
     "metadata": {},
     "output_type": "execute_result"
    }
   ],
   "source": [
    "m = np.random.randn(20)\n",
    "m = m * 10\n",
    "m"
   ]
  },
  {
   "cell_type": "code",
   "execution_count": 21,
   "id": "9c7d5087",
   "metadata": {},
   "outputs": [
    {
     "data": {
      "text/plain": [
       "array([False,  True, False, False, False, False, False, False, False,\n",
       "        True,  True,  True,  True, False,  True, False,  True,  True,\n",
       "       False,  True])"
      ]
     },
     "execution_count": 21,
     "metadata": {},
     "output_type": "execute_result"
    }
   ],
   "source": [
    "m > 0"
   ]
  },
  {
   "cell_type": "code",
   "execution_count": 22,
   "id": "f24e0191",
   "metadata": {},
   "outputs": [
    {
     "data": {
      "text/plain": [
       "9"
      ]
     },
     "execution_count": 22,
     "metadata": {},
     "output_type": "execute_result"
    }
   ],
   "source": [
    "(m > 0).sum()"
   ]
  },
  {
   "cell_type": "code",
   "execution_count": 23,
   "id": "5ba19a4f",
   "metadata": {},
   "outputs": [
    {
     "data": {
      "text/plain": [
       "(-21.502980296355737, 15)"
      ]
     },
     "execution_count": 23,
     "metadata": {},
     "output_type": "execute_result"
    }
   ],
   "source": [
    "np.amin(m), np.argmin(m)"
   ]
  },
  {
   "cell_type": "code",
   "execution_count": 24,
   "id": "0e338501",
   "metadata": {},
   "outputs": [
    {
     "data": {
      "text/plain": [
       "(17.454462354802583, 16)"
      ]
     },
     "execution_count": 24,
     "metadata": {},
     "output_type": "execute_result"
    }
   ],
   "source": [
    "np.amax(m), np.argmax(m)"
   ]
  },
  {
   "cell_type": "code",
   "execution_count": 25,
   "id": "52768ade",
   "metadata": {},
   "outputs": [
    {
     "data": {
      "text/plain": [
       "True"
      ]
     },
     "execution_count": 25,
     "metadata": {},
     "output_type": "execute_result"
    }
   ],
   "source": [
    "(m > 0).any()"
   ]
  },
  {
   "cell_type": "code",
   "execution_count": 18,
   "id": "c7112647",
   "metadata": {},
   "outputs": [
    {
     "data": {
      "text/plain": [
       "83.03"
      ]
     },
     "execution_count": 18,
     "metadata": {},
     "output_type": "execute_result"
    }
   ],
   "source": [
    "x = np.random.randint (0, 50,1000)\n",
    "y = x + np.random.normal (0, 10,1000)\n",
    "m2 = np.corrcoef(x,y)[0,1]\n",
    "m2= round(m*100,2)\n",
    "m2"
   ]
  },
  {
   "cell_type": "code",
   "execution_count": 26,
   "id": "31aec759",
   "metadata": {},
   "outputs": [
    {
     "data": {
      "text/plain": [
       "array([[11, 10, 11,  8,  2, 14,  9],\n",
       "       [10, 13,  3, 13, 11,  4, 14],\n",
       "       [ 2, 13, 12, 14,  2,  8,  7],\n",
       "       [ 6, 11,  9, 11,  2, 11,  9]])"
      ]
     },
     "execution_count": 26,
     "metadata": {},
     "output_type": "execute_result"
    }
   ],
   "source": [
    "m = np.random.randint(0,15,(4,7))\n",
    "m"
   ]
  },
  {
   "cell_type": "code",
   "execution_count": 28,
   "id": "1e124bdf",
   "metadata": {},
   "outputs": [
    {
     "data": {
      "text/plain": [
       "array([[ 2,  8,  9, 10, 11, 11, 14],\n",
       "       [ 3,  4, 10, 11, 13, 13, 14],\n",
       "       [ 2,  2,  7,  8, 12, 13, 14],\n",
       "       [ 2,  6,  9,  9, 11, 11, 11]])"
      ]
     },
     "execution_count": 28,
     "metadata": {},
     "output_type": "execute_result"
    }
   ],
   "source": [
    "m.sort()\n",
    "m"
   ]
  },
  {
   "cell_type": "code",
   "execution_count": 29,
   "id": "6c99b05c",
   "metadata": {},
   "outputs": [
    {
     "data": {
      "text/plain": [
       "array([[ 2,  2,  7,  8, 11, 11, 11],\n",
       "       [ 2,  4,  9,  9, 11, 11, 14],\n",
       "       [ 2,  6,  9, 10, 12, 13, 14],\n",
       "       [ 3,  8, 10, 11, 13, 13, 14]])"
      ]
     },
     "execution_count": 29,
     "metadata": {},
     "output_type": "execute_result"
    }
   ],
   "source": [
    "m.sort(0) # Por filas\n",
    "m"
   ]
  },
  {
   "cell_type": "code",
   "execution_count": 30,
   "id": "aed8fe20",
   "metadata": {},
   "outputs": [
    {
     "data": {
      "text/plain": [
       "array([ 2,  3,  4,  6,  7,  8,  9, 10, 11, 12, 13, 14])"
      ]
     },
     "execution_count": 30,
     "metadata": {},
     "output_type": "execute_result"
    }
   ],
   "source": [
    "np.unique(m)"
   ]
  },
  {
   "cell_type": "code",
   "execution_count": 31,
   "id": "2ec08343",
   "metadata": {},
   "outputs": [],
   "source": [
    "m = np.random.randint(0,15,(40,55))\n",
    "m2 = np.random.randint(16,30,(40,55))\n",
    "np.save(\"matrices\",(m,m2))"
   ]
  },
  {
   "cell_type": "code",
   "execution_count": 32,
   "id": "790c5f7c",
   "metadata": {},
   "outputs": [],
   "source": [
    "a,b = np.load(\"matrices.npy\")"
   ]
  },
  {
   "cell_type": "code",
   "execution_count": 34,
   "id": "7e8c9bbf",
   "metadata": {},
   "outputs": [
    {
     "data": {
      "text/plain": [
       "array([[11,  6,  7, ..., 12,  1,  5],\n",
       "       [ 8, 13,  4, ..., 10,  6,  0],\n",
       "       [ 8,  8, 11, ...,  1, 11, 10],\n",
       "       ...,\n",
       "       [10,  8,  5, ...,  9,  0, 11],\n",
       "       [ 4, 13,  9, ...,  4,  3,  9],\n",
       "       [ 5, 12, 12, ..., 14, 14,  8]])"
      ]
     },
     "execution_count": 34,
     "metadata": {},
     "output_type": "execute_result"
    }
   ],
   "source": [
    "a"
   ]
  },
  {
   "cell_type": "code",
   "execution_count": 35,
   "id": "ca3e189f",
   "metadata": {},
   "outputs": [
    {
     "data": {
      "text/plain": [
       "array([[21, 17, 26, ..., 26, 28, 29],\n",
       "       [24, 21, 16, ..., 24, 29, 29],\n",
       "       [18, 25, 28, ..., 22, 20, 29],\n",
       "       ...,\n",
       "       [29, 29, 29, ..., 22, 26, 19],\n",
       "       [28, 27, 17, ..., 17, 21, 22],\n",
       "       [29, 24, 19, ..., 23, 28, 26]])"
      ]
     },
     "execution_count": 35,
     "metadata": {},
     "output_type": "execute_result"
    }
   ],
   "source": [
    "b"
   ]
  },
  {
   "cell_type": "code",
   "execution_count": 37,
   "id": "95608dc2",
   "metadata": {},
   "outputs": [],
   "source": [
    "np.savetxt(\"matrices.csv\", m, delimiter=';', fmt=\"%d\")"
   ]
  },
  {
   "cell_type": "code",
   "execution_count": 38,
   "id": "35fab2c4",
   "metadata": {},
   "outputs": [],
   "source": [
    "np.savez_compressed('matrices.npz',k1=a,k2=b)"
   ]
  },
  {
   "cell_type": "code",
   "execution_count": 40,
   "id": "39348026",
   "metadata": {},
   "outputs": [
    {
     "data": {
      "text/plain": [
       "array([[21, 17, 26, ..., 26, 28, 29],\n",
       "       [24, 21, 16, ..., 24, 29, 29],\n",
       "       [18, 25, 28, ..., 22, 20, 29],\n",
       "       ...,\n",
       "       [29, 29, 29, ..., 22, 26, 19],\n",
       "       [28, 27, 17, ..., 17, 21, 22],\n",
       "       [29, 24, 19, ..., 23, 28, 26]])"
      ]
     },
     "execution_count": 40,
     "metadata": {},
     "output_type": "execute_result"
    }
   ],
   "source": [
    "dic = np.load('matrices.npz')\n",
    "m3 = dic['k2']\n",
    "m3"
   ]
  },
  {
   "cell_type": "code",
   "execution_count": 41,
   "id": "9b9d50c7",
   "metadata": {},
   "outputs": [
    {
     "data": {
      "text/plain": [
       "array([21, 17, 26, ..., 23, 28, 26])"
      ]
     },
     "execution_count": 41,
     "metadata": {},
     "output_type": "execute_result"
    }
   ],
   "source": [
    "m3.ravel()"
   ]
  },
  {
   "cell_type": "code",
   "execution_count": 43,
   "id": "b235bab9",
   "metadata": {},
   "outputs": [
    {
     "data": {
      "text/plain": [
       "(6, 5)"
      ]
     },
     "execution_count": 43,
     "metadata": {},
     "output_type": "execute_result"
    }
   ],
   "source": [
    "a = np.arange(30).reshape(6,-1)\n",
    "a.shape"
   ]
  },
  {
   "cell_type": "code",
   "execution_count": 44,
   "id": "fe7f7017",
   "metadata": {},
   "outputs": [
    {
     "data": {
      "text/plain": [
       "array([ 0,  1,  2,  3,  4,  5,  6,  7,  8,  9, 10, 11, 12, 13, 14, 15, 16,\n",
       "       17, 18, 19, 20, 21, 22, 23, 24, 25, 26, 27, 28, 29])"
      ]
     },
     "execution_count": 44,
     "metadata": {},
     "output_type": "execute_result"
    }
   ],
   "source": [
    "a.flatten()"
   ]
  },
  {
   "cell_type": "code",
   "execution_count": null,
   "id": "acba7e05",
   "metadata": {},
   "outputs": [],
   "source": []
  }
 ],
 "metadata": {
  "kernelspec": {
   "display_name": "Python 3 (ipykernel)",
   "language": "python",
   "name": "python3"
  },
  "language_info": {
   "codemirror_mode": {
    "name": "ipython",
    "version": 3
   },
   "file_extension": ".py",
   "mimetype": "text/x-python",
   "name": "python",
   "nbconvert_exporter": "python",
   "pygments_lexer": "ipython3",
   "version": "3.8.5"
  }
 },
 "nbformat": 4,
 "nbformat_minor": 5
}
