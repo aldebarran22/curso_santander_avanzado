{
 "cells": [
  {
   "cell_type": "markdown",
   "id": "dd58c66a",
   "metadata": {},
   "source": [
    "## Ejemplos de colecciones en Python"
   ]
  },
  {
   "cell_type": "code",
   "execution_count": 26,
   "id": "7c36d1bf",
   "metadata": {},
   "outputs": [],
   "source": [
    "from random import randint\n",
    "import copy, string"
   ]
  },
  {
   "cell_type": "markdown",
   "id": "d3ea6f6e",
   "metadata": {},
   "source": [
    "Pruebas con colecciones: list, dict, set, tuple y str"
   ]
  },
  {
   "cell_type": "code",
   "execution_count": 1,
   "id": "546e9dde",
   "metadata": {},
   "outputs": [
    {
     "data": {
      "text/plain": [
       "[1, 3, 4, 5, 6, 6]"
      ]
     },
     "execution_count": 1,
     "metadata": {},
     "output_type": "execute_result"
    }
   ],
   "source": [
    "L = [1,3,4,5,6,6]\n",
    "L"
   ]
  },
  {
   "cell_type": "code",
   "execution_count": 2,
   "id": "38819e48",
   "metadata": {},
   "outputs": [
    {
     "data": {
      "text/plain": [
       "['h', 'o', 'l', 'a', ' ', 'q', 'u', 'e', ' ', 't', 'a', 'l']"
      ]
     },
     "execution_count": 2,
     "metadata": {},
     "output_type": "execute_result"
    }
   ],
   "source": [
    "L2 = list('hola que tal')\n",
    "L2"
   ]
  },
  {
   "cell_type": "code",
   "execution_count": 4,
   "id": "a6c4f40a",
   "metadata": {},
   "outputs": [
    {
     "data": {
      "text/plain": [
       "[27, 26, 45, 15, 49, 8, 38, 28, 7, 29, 18, 34, 23, 43, 14, 14, 48, 38, 11, 44]"
      ]
     },
     "execution_count": 4,
     "metadata": {},
     "output_type": "execute_result"
    }
   ],
   "source": [
    "L3 = [randint(1,50) for _ in range(20)]\n",
    "L3"
   ]
  },
  {
   "cell_type": "code",
   "execution_count": 6,
   "id": "6a4732ab",
   "metadata": {},
   "outputs": [
    {
     "name": "stdout",
     "output_type": "stream",
     "text": [
      "[1000, 3, 4, 5, 6, 6]\n",
      "[1000, 3, 4, 5, 6, 6] 2632686281664\n",
      "[1000, 3, 4, 5, 6, 6] 2632686281664\n"
     ]
    }
   ],
   "source": [
    "# Ojo con la copia de objetos mutables!\n",
    "print(L)\n",
    "L2 = L\n",
    "L[0] = 1000\n",
    "print(L, id(L))\n",
    "print(L2, id(L2))"
   ]
  },
  {
   "cell_type": "code",
   "execution_count": 7,
   "id": "80f951be",
   "metadata": {},
   "outputs": [
    {
     "name": "stdout",
     "output_type": "stream",
     "text": [
      "[1000, 3, 4, 5, 6, 6] 2632686237376\n",
      "[1, 3, 4, 5, 6, 6] 2632686236160\n"
     ]
    }
   ],
   "source": [
    "L = [1,3,4,5,6,6]\n",
    "L2 = L.copy() # Funciona bien si los items son objetos imutables\n",
    "L[0] = 1000\n",
    "print(L, id(L))\n",
    "print(L2, id(L2))"
   ]
  },
  {
   "cell_type": "code",
   "execution_count": 8,
   "id": "09377d20",
   "metadata": {},
   "outputs": [
    {
     "name": "stdout",
     "output_type": "stream",
     "text": [
      "[1000, [4, 5], [6, 6, 999]] 2632686237504\n",
      "[[1, 3], [4, 5], [6, 6, 999]] 2632686264448\n"
     ]
    }
   ],
   "source": [
    "L = [[1,3],[4,5],[6,6]]\n",
    "L2 = L.copy() # Funciona bien si los items son objetos imutables\n",
    "L[0] = 1000\n",
    "L[-1].append(999)\n",
    "print(L, id(L))\n",
    "print(L2, id(L2))"
   ]
  },
  {
   "cell_type": "code",
   "execution_count": 10,
   "id": "09990592",
   "metadata": {},
   "outputs": [
    {
     "name": "stdout",
     "output_type": "stream",
     "text": [
      "[1000, [4, 5], [6, 6, 999]] 2632686334336\n",
      "[[1, 3], [4, 5], [6, 6]] 2632686335424\n"
     ]
    }
   ],
   "source": [
    "L = [[1,3],[4,5],[6,6]]\n",
    "L2 = copy.deepcopy(L) # Funciona bien si los items son objetos imutables\n",
    "L[0] = 1000\n",
    "L[-1].append(999)\n",
    "print(L, id(L))\n",
    "print(L2, id(L2))"
   ]
  },
  {
   "cell_type": "code",
   "execution_count": 13,
   "id": "a9c7f611",
   "metadata": {},
   "outputs": [
    {
     "data": {
      "text/plain": [
       "((27, 26, 45, 15, 49), tuple)"
      ]
     },
     "execution_count": 13,
     "metadata": {},
     "output_type": "execute_result"
    }
   ],
   "source": [
    "t = tuple(L3)\n",
    "t[:5], type(t)"
   ]
  },
  {
   "cell_type": "code",
   "execution_count": 14,
   "id": "d8e5b4e5",
   "metadata": {},
   "outputs": [
    {
     "name": "stdout",
     "output_type": "stream",
     "text": [
      "1 2 3\n"
     ]
    }
   ],
   "source": [
    "a,b,c=1,2,3\n",
    "print(a,b,c)"
   ]
  },
  {
   "cell_type": "code",
   "execution_count": 15,
   "id": "a2871604",
   "metadata": {},
   "outputs": [
    {
     "name": "stdout",
     "output_type": "stream",
     "text": [
      "2 1\n"
     ]
    }
   ],
   "source": [
    "a,b=b,a\n",
    "print(a,b)"
   ]
  },
  {
   "cell_type": "code",
   "execution_count": 17,
   "id": "055d6929",
   "metadata": {},
   "outputs": [],
   "source": [
    "def func(*args):\n",
    "    print(args)"
   ]
  },
  {
   "cell_type": "code",
   "execution_count": 19,
   "id": "83e04ade",
   "metadata": {},
   "outputs": [],
   "source": [
    "def imprimir(a,b):\n",
    "    return a+b"
   ]
  },
  {
   "cell_type": "code",
   "execution_count": 20,
   "id": "24efa0c8",
   "metadata": {},
   "outputs": [
    {
     "data": {
      "text/plain": [
       "[15, -1, 9, 10]"
      ]
     },
     "execution_count": 20,
     "metadata": {},
     "output_type": "execute_result"
    }
   ],
   "source": [
    "L = [(12,3),(8,-9),(4,5),(1,9)]\n",
    "L2 = [imprimir(i,j) for i, j in L]\n",
    "L2"
   ]
  },
  {
   "cell_type": "code",
   "execution_count": 21,
   "id": "20a3c006",
   "metadata": {},
   "outputs": [
    {
     "data": {
      "text/plain": [
       "[15, -1, 9, 10]"
      ]
     },
     "execution_count": 21,
     "metadata": {},
     "output_type": "execute_result"
    }
   ],
   "source": [
    "L2 = [imprimir(*t) for t in L]\n",
    "L2"
   ]
  },
  {
   "cell_type": "code",
   "execution_count": 22,
   "id": "c35eca56",
   "metadata": {},
   "outputs": [
    {
     "name": "stdout",
     "output_type": "stream",
     "text": [
      "68\n"
     ]
    }
   ],
   "source": [
    "d = {\"a\":12, \"b\":56}\n",
    "print(imprimir(**d))"
   ]
  },
  {
   "cell_type": "code",
   "execution_count": 23,
   "id": "bbea02fd",
   "metadata": {},
   "outputs": [
    {
     "data": {
      "text/plain": [
       "tuple"
      ]
     },
     "execution_count": 23,
     "metadata": {},
     "output_type": "execute_result"
    }
   ],
   "source": [
    "t = (1,)\n",
    "type(t)"
   ]
  },
  {
   "cell_type": "code",
   "execution_count": 24,
   "id": "2e58d5a7",
   "metadata": {},
   "outputs": [
    {
     "name": "stdout",
     "output_type": "stream",
     "text": [
      "0 15\n",
      "1 -1\n",
      "2 9\n",
      "3 10\n"
     ]
    }
   ],
   "source": [
    "for pos, i in enumerate(L2):\n",
    "    print(pos, i)\n",
    "    "
   ]
  },
  {
   "cell_type": "code",
   "execution_count": 25,
   "id": "a2009f3c",
   "metadata": {},
   "outputs": [
    {
     "data": {
      "text/plain": [
       "{'1': 1, '2': 2, '3': 3}"
      ]
     },
     "execution_count": 25,
     "metadata": {},
     "output_type": "execute_result"
    }
   ],
   "source": [
    "d = {\"1\":1, \"2\":2, \"3\":3}\n",
    "d"
   ]
  },
  {
   "cell_type": "code",
   "execution_count": 27,
   "id": "4621cdba",
   "metadata": {},
   "outputs": [
    {
     "data": {
      "text/plain": [
       "'abcdefghijklmnopqrstuvwxyzABCDEFGHIJKLMNOPQRSTUVWXYZ'"
      ]
     },
     "execution_count": 27,
     "metadata": {},
     "output_type": "execute_result"
    }
   ],
   "source": [
    "string.ascii_letters"
   ]
  },
  {
   "cell_type": "code",
   "execution_count": 28,
   "id": "687aa971",
   "metadata": {},
   "outputs": [],
   "source": [
    "n = len(string.ascii_letters)"
   ]
  },
  {
   "cell_type": "code",
   "execution_count": 33,
   "id": "126b1de9",
   "metadata": {},
   "outputs": [],
   "source": [
    "L3 = [randint(1,20) for _ in range(n)]\n",
    "d2 = dict(zip(string.ascii_letters, L3))"
   ]
  },
  {
   "cell_type": "code",
   "execution_count": 34,
   "id": "fea9d871",
   "metadata": {},
   "outputs": [
    {
     "data": {
      "text/plain": [
       "{1, 2, 3, 4, 5, 6, 7, 9, 10, 11, 12, 13, 14, 15, 16, 17, 18, 19, 20}"
      ]
     },
     "execution_count": 34,
     "metadata": {},
     "output_type": "execute_result"
    }
   ],
   "source": [
    "c = set(L3)\n",
    "c"
   ]
  },
  {
   "cell_type": "code",
   "execution_count": 35,
   "id": "b7164ce7",
   "metadata": {},
   "outputs": [
    {
     "data": {
      "text/plain": [
       "[('h', 20), ('O', 19), ('a', 18), ('S', 18), ('G', 17)]"
      ]
     },
     "execution_count": 35,
     "metadata": {},
     "output_type": "execute_result"
    }
   ],
   "source": [
    "L = sorted(d2.items(), key=lambda t:t[1], reverse=True)\n",
    "L[:5]"
   ]
  },
  {
   "cell_type": "code",
   "execution_count": 36,
   "id": "1a177df1",
   "metadata": {},
   "outputs": [
    {
     "data": {
      "text/plain": [
       "{1}"
      ]
     },
     "execution_count": 36,
     "metadata": {},
     "output_type": "execute_result"
    }
   ],
   "source": [
    "c1 = {1,3,4,5}\n",
    "c2 = {3,4,5,6}\n",
    "c1 - c2"
   ]
  },
  {
   "cell_type": "code",
   "execution_count": 37,
   "id": "a2f5d128",
   "metadata": {},
   "outputs": [
    {
     "data": {
      "text/plain": [
       "{6}"
      ]
     },
     "execution_count": 37,
     "metadata": {},
     "output_type": "execute_result"
    }
   ],
   "source": [
    "c2 - c1"
   ]
  },
  {
   "cell_type": "code",
   "execution_count": 38,
   "id": "de4ecff2",
   "metadata": {},
   "outputs": [
    {
     "data": {
      "text/plain": [
       "{3, 4, 5}"
      ]
     },
     "execution_count": 38,
     "metadata": {},
     "output_type": "execute_result"
    }
   ],
   "source": [
    "c1 & c2"
   ]
  },
  {
   "cell_type": "code",
   "execution_count": 39,
   "id": "0894b12b",
   "metadata": {},
   "outputs": [
    {
     "data": {
      "text/plain": [
       "{1, 3, 4, 5, 6}"
      ]
     },
     "execution_count": 39,
     "metadata": {},
     "output_type": "execute_result"
    }
   ],
   "source": [
    "c1 | c2"
   ]
  },
  {
   "cell_type": "code",
   "execution_count": 40,
   "id": "f044aa88",
   "metadata": {},
   "outputs": [
    {
     "data": {
      "text/plain": [
       "{1, 6}"
      ]
     },
     "execution_count": 40,
     "metadata": {},
     "output_type": "execute_result"
    }
   ],
   "source": [
    "c1 ^ c2"
   ]
  },
  {
   "cell_type": "code",
   "execution_count": null,
   "id": "bcbeb28e",
   "metadata": {},
   "outputs": [],
   "source": []
  }
 ],
 "metadata": {
  "kernelspec": {
   "display_name": "Python 3 (ipykernel)",
   "language": "python",
   "name": "python3"
  },
  "language_info": {
   "codemirror_mode": {
    "name": "ipython",
    "version": 3
   },
   "file_extension": ".py",
   "mimetype": "text/x-python",
   "name": "python",
   "nbconvert_exporter": "python",
   "pygments_lexer": "ipython3",
   "version": "3.8.5"
  }
 },
 "nbformat": 4,
 "nbformat_minor": 5
}
