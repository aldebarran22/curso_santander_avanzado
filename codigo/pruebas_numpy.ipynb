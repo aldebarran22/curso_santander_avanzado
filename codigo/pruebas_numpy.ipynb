{
 "cells": [
  {
   "cell_type": "markdown",
   "id": "cb937e10",
   "metadata": {},
   "source": [
    "## Pruebas con la librería numpy"
   ]
  },
  {
   "cell_type": "code",
   "execution_count": 6,
   "id": "84fd92e8",
   "metadata": {},
   "outputs": [],
   "source": [
    "import numpy as np\n",
    "from datetime import datetime"
   ]
  },
  {
   "cell_type": "code",
   "execution_count": 3,
   "id": "bd1cf969",
   "metadata": {},
   "outputs": [
    {
     "name": "stdout",
     "output_type": "stream",
     "text": [
      "13.5 ms ± 234 µs per loop (mean ± std. dev. of 7 runs, 100 loops each)\n"
     ]
    }
   ],
   "source": [
    "%%timeit\n",
    "\n",
    "my_arr = np.arange(1000000)\n",
    "for _ in range(10): my_arr2 = my_arr * 2"
   ]
  },
  {
   "cell_type": "code",
   "execution_count": 4,
   "id": "1f5ef2bf",
   "metadata": {},
   "outputs": [
    {
     "name": "stdout",
     "output_type": "stream",
     "text": [
      "620 ms ± 16.9 ms per loop (mean ± std. dev. of 7 runs, 1 loop each)\n"
     ]
    }
   ],
   "source": [
    "%%timeit\n",
    "my_list = list(range(1000000))\n",
    "for _ in range(10): my_list2 = [x*2 for x in my_list]"
   ]
  },
  {
   "cell_type": "code",
   "execution_count": 7,
   "id": "929bc6ca",
   "metadata": {},
   "outputs": [
    {
     "data": {
      "text/plain": [
       "datetime.timedelta(microseconds=13962)"
      ]
     },
     "execution_count": 7,
     "metadata": {},
     "output_type": "execute_result"
    }
   ],
   "source": [
    "t1 = datetime.now()\n",
    "my_arr = np.arange(1000000)\n",
    "for _ in range(10): my_arr2 = my_arr * 2\n",
    "t2 = datetime.now()\n",
    "t2-t1"
   ]
  },
  {
   "cell_type": "code",
   "execution_count": 8,
   "id": "7b909b26",
   "metadata": {},
   "outputs": [
    {
     "data": {
      "text/plain": [
       "datetime.timedelta(microseconds=628470)"
      ]
     },
     "execution_count": 8,
     "metadata": {},
     "output_type": "execute_result"
    }
   ],
   "source": [
    "t1 = datetime.now()\n",
    "my_list = list(range(1000000))\n",
    "for _ in range(10): my_list2 = [x*2 for x in my_list]\n",
    "t2 = datetime.now()\n",
    "t2-t1"
   ]
  },
  {
   "cell_type": "code",
   "execution_count": 9,
   "id": "5f060d7b",
   "metadata": {},
   "outputs": [
    {
     "data": {
      "text/plain": [
       "array([1. +0.j, 2. +0.j, 3. +0.j, 4. +0.j, 5.5+0.j, 2. +4.j])"
      ]
     },
     "execution_count": 9,
     "metadata": {},
     "output_type": "execute_result"
    }
   ],
   "source": [
    "a = np.array([1,2,3,4,5.5,2+4j])\n",
    "a"
   ]
  },
  {
   "cell_type": "code",
   "execution_count": 10,
   "id": "a55423a7",
   "metadata": {},
   "outputs": [
    {
     "data": {
      "text/plain": [
       "dtype('complex128')"
      ]
     },
     "execution_count": 10,
     "metadata": {},
     "output_type": "execute_result"
    }
   ],
   "source": [
    "a.dtype"
   ]
  },
  {
   "cell_type": "code",
   "execution_count": 11,
   "id": "91e19c7b",
   "metadata": {},
   "outputs": [
    {
     "name": "stderr",
     "output_type": "stream",
     "text": [
      "<ipython-input-11-2896b29def98>:1: ComplexWarning: Casting complex values to real discards the imaginary part\n",
      "  n = a.astype(np.float32)\n"
     ]
    },
    {
     "data": {
      "text/plain": [
       "array([1. , 2. , 3. , 4. , 5.5, 2. ], dtype=float32)"
      ]
     },
     "execution_count": 11,
     "metadata": {},
     "output_type": "execute_result"
    }
   ],
   "source": [
    "n = a.astype(np.float32)\n",
    "n"
   ]
  },
  {
   "cell_type": "code",
   "execution_count": 17,
   "id": "fba7ae5c",
   "metadata": {},
   "outputs": [
    {
     "data": {
      "text/plain": [
       "(array([1, 2, 3, 4]), dtype('int32'))"
      ]
     },
     "execution_count": 17,
     "metadata": {},
     "output_type": "execute_result"
    }
   ],
   "source": [
    "b = np.array([\"1\",\"2\",\"3\",\"4\"], dtype=np.int32)\n",
    "b, b.dtype"
   ]
  },
  {
   "cell_type": "code",
   "execution_count": 14,
   "id": "16aaf3fb",
   "metadata": {},
   "outputs": [
    {
     "data": {
      "text/plain": [
       "(4,)"
      ]
     },
     "execution_count": 14,
     "metadata": {},
     "output_type": "execute_result"
    }
   ],
   "source": [
    "b.shape"
   ]
  },
  {
   "cell_type": "code",
   "execution_count": 15,
   "id": "7c3faa9b",
   "metadata": {},
   "outputs": [
    {
     "data": {
      "text/plain": [
       "array([[ 0,  1,  2,  3,  4],\n",
       "       [ 5,  6,  7,  8,  9],\n",
       "       [10, 11, 12, 13, 14],\n",
       "       [15, 16, 17, 18, 19],\n",
       "       [20, 21, 22, 23, 24]])"
      ]
     },
     "execution_count": 15,
     "metadata": {},
     "output_type": "execute_result"
    }
   ],
   "source": [
    "a = np.arange(25).reshape(5,5)\n",
    "a"
   ]
  },
  {
   "cell_type": "code",
   "execution_count": 18,
   "id": "2d7e954a",
   "metadata": {},
   "outputs": [
    {
     "data": {
      "text/plain": [
       "array([[[0., 0., 0., 0., 0., 0.],\n",
       "        [0., 0., 0., 0., 0., 0.],\n",
       "        [0., 0., 0., 0., 0., 0.],\n",
       "        [0., 0., 0., 0., 0., 0.],\n",
       "        [0., 0., 0., 0., 0., 0.]],\n",
       "\n",
       "       [[0., 0., 0., 0., 0., 0.],\n",
       "        [0., 0., 0., 0., 0., 0.],\n",
       "        [0., 0., 0., 0., 0., 0.],\n",
       "        [0., 0., 0., 0., 0., 0.],\n",
       "        [0., 0., 0., 0., 0., 0.]],\n",
       "\n",
       "       [[0., 0., 0., 0., 0., 0.],\n",
       "        [0., 0., 0., 0., 0., 0.],\n",
       "        [0., 0., 0., 0., 0., 0.],\n",
       "        [0., 0., 0., 0., 0., 0.],\n",
       "        [0., 0., 0., 0., 0., 0.]]])"
      ]
     },
     "execution_count": 18,
     "metadata": {},
     "output_type": "execute_result"
    }
   ],
   "source": [
    "m = np.zeros((3,5,6))\n",
    "m"
   ]
  },
  {
   "cell_type": "code",
   "execution_count": 19,
   "id": "09a34d0c",
   "metadata": {},
   "outputs": [
    {
     "data": {
      "text/plain": [
       "array([[[1., 1., 1., 1., 1., 1.],\n",
       "        [1., 1., 1., 1., 1., 1.],\n",
       "        [1., 1., 1., 1., 1., 1.],\n",
       "        [1., 1., 1., 1., 1., 1.],\n",
       "        [1., 1., 1., 1., 1., 1.]],\n",
       "\n",
       "       [[1., 1., 1., 1., 1., 1.],\n",
       "        [1., 1., 1., 1., 1., 1.],\n",
       "        [1., 1., 1., 1., 1., 1.],\n",
       "        [1., 1., 1., 1., 1., 1.],\n",
       "        [1., 1., 1., 1., 1., 1.]],\n",
       "\n",
       "       [[1., 1., 1., 1., 1., 1.],\n",
       "        [1., 1., 1., 1., 1., 1.],\n",
       "        [1., 1., 1., 1., 1., 1.],\n",
       "        [1., 1., 1., 1., 1., 1.],\n",
       "        [1., 1., 1., 1., 1., 1.]]])"
      ]
     },
     "execution_count": 19,
     "metadata": {},
     "output_type": "execute_result"
    }
   ],
   "source": [
    "m2 = np.ones_like(m)\n",
    "m2"
   ]
  },
  {
   "cell_type": "code",
   "execution_count": 20,
   "id": "08b4c0e6",
   "metadata": {},
   "outputs": [
    {
     "data": {
      "text/plain": [
       "array([[1., 0., 0., 0.],\n",
       "       [0., 1., 0., 0.],\n",
       "       [0., 0., 1., 0.],\n",
       "       [0., 0., 0., 1.]])"
      ]
     },
     "execution_count": 20,
     "metadata": {},
     "output_type": "execute_result"
    }
   ],
   "source": [
    "np.eye(4)"
   ]
  },
  {
   "cell_type": "code",
   "execution_count": 25,
   "id": "f82b9ee4",
   "metadata": {},
   "outputs": [
    {
     "data": {
      "text/plain": [
       "array([[9, 4, 7, 6, 7],\n",
       "       [9, 5, 8, 1, 4],\n",
       "       [6, 9, 1, 5, 7],\n",
       "       [8, 9, 5, 2, 9]])"
      ]
     },
     "execution_count": 25,
     "metadata": {},
     "output_type": "execute_result"
    }
   ],
   "source": [
    "a = np.random.randint(1,10,(4,5))\n",
    "a"
   ]
  },
  {
   "cell_type": "code",
   "execution_count": 28,
   "id": "6ca3aafc",
   "metadata": {},
   "outputs": [
    {
     "data": {
      "text/plain": [
       "array([[6, 3, 3, 4, 6],\n",
       "       [4, 2, 1, 3, 9],\n",
       "       [2, 5, 4, 3, 3],\n",
       "       [6, 6, 4, 4, 1]])"
      ]
     },
     "execution_count": 28,
     "metadata": {},
     "output_type": "execute_result"
    }
   ],
   "source": [
    "b = np.random.randint(1,10,(4,5))\n",
    "b"
   ]
  },
  {
   "cell_type": "code",
   "execution_count": 29,
   "id": "da9625eb",
   "metadata": {},
   "outputs": [
    {
     "data": {
      "text/plain": [
       "array([[15,  7, 10, 10, 13],\n",
       "       [13,  7,  9,  4, 13],\n",
       "       [ 8, 14,  5,  8, 10],\n",
       "       [14, 15,  9,  6, 10]])"
      ]
     },
     "execution_count": 29,
     "metadata": {},
     "output_type": "execute_result"
    }
   ],
   "source": [
    "a+b"
   ]
  },
  {
   "cell_type": "code",
   "execution_count": 30,
   "id": "184be1d8",
   "metadata": {},
   "outputs": [
    {
     "data": {
      "text/plain": [
       "array([[90, 40, 70, 60, 70],\n",
       "       [90, 50, 80, 10, 40],\n",
       "       [60, 90, 10, 50, 70],\n",
       "       [80, 90, 50, 20, 90]])"
      ]
     },
     "execution_count": 30,
     "metadata": {},
     "output_type": "execute_result"
    }
   ],
   "source": [
    "a * 10"
   ]
  },
  {
   "cell_type": "code",
   "execution_count": 32,
   "id": "ed6fa18f",
   "metadata": {},
   "outputs": [
    {
     "data": {
      "text/plain": [
       "array([[6, 4, 2, 6],\n",
       "       [3, 2, 5, 6],\n",
       "       [3, 1, 4, 4],\n",
       "       [4, 3, 3, 4],\n",
       "       [6, 9, 3, 1]])"
      ]
     },
     "execution_count": 32,
     "metadata": {},
     "output_type": "execute_result"
    }
   ],
   "source": [
    "b = b.T\n",
    "b"
   ]
  },
  {
   "cell_type": "code",
   "execution_count": 33,
   "id": "f69f5f66",
   "metadata": {},
   "outputs": [
    {
     "data": {
      "text/plain": [
       "array([[153, 132, 105, 137],\n",
       "       [121,  93,  90, 124],\n",
       "       [128, 121,  97, 121],\n",
       "       [152, 142, 114, 139]])"
      ]
     },
     "execution_count": 33,
     "metadata": {},
     "output_type": "execute_result"
    }
   ],
   "source": [
    "a @ b"
   ]
  },
  {
   "cell_type": "code",
   "execution_count": 35,
   "id": "eb97e83f",
   "metadata": {},
   "outputs": [
    {
     "data": {
      "text/plain": [
       "array([54, 23, 65,  9, 56, 30, 12,  1, 17, 46, 13, 69, 28, 36, 44, 28,  6,\n",
       "       23, 69, 54])"
      ]
     },
     "execution_count": 35,
     "metadata": {},
     "output_type": "execute_result"
    }
   ],
   "source": [
    "a = np.random.randint(1,70,20)\n",
    "a"
   ]
  },
  {
   "cell_type": "code",
   "execution_count": 36,
   "id": "a7bfbd7f",
   "metadata": {},
   "outputs": [
    {
     "data": {
      "text/plain": [
       "array([54, 65, 56, 69, 69, 54])"
      ]
     },
     "execution_count": 36,
     "metadata": {},
     "output_type": "execute_result"
    }
   ],
   "source": [
    "a[a > 50]\n"
   ]
  },
  {
   "cell_type": "code",
   "execution_count": 37,
   "id": "85c49a5f",
   "metadata": {},
   "outputs": [
    {
     "data": {
      "text/plain": [
       "array([50, 23, 50,  9, 50, 30, 12,  1, 17, 46, 13, 50, 28, 36, 44, 28,  6,\n",
       "       23, 50, 50])"
      ]
     },
     "execution_count": 37,
     "metadata": {},
     "output_type": "execute_result"
    }
   ],
   "source": [
    "a[a > 50]=50\n",
    "a"
   ]
  },
  {
   "cell_type": "code",
   "execution_count": 38,
   "id": "5bbd82d4",
   "metadata": {},
   "outputs": [
    {
     "data": {
      "text/plain": [
       "array([23, 30, 12, 17, 13, 28, 28, 23])"
      ]
     },
     "execution_count": 38,
     "metadata": {},
     "output_type": "execute_result"
    }
   ],
   "source": [
    "a[(a >= 10) & (a <= 30)]"
   ]
  },
  {
   "cell_type": "code",
   "execution_count": 39,
   "id": "c18d2f5a",
   "metadata": {},
   "outputs": [
    {
     "data": {
      "text/plain": [
       "array([50, 23, 50,  9, 50, 30, 12,  1, 17, 46])"
      ]
     },
     "execution_count": 39,
     "metadata": {},
     "output_type": "execute_result"
    }
   ],
   "source": [
    "a[:10]"
   ]
  },
  {
   "cell_type": "code",
   "execution_count": 42,
   "id": "5accfbc7",
   "metadata": {},
   "outputs": [
    {
     "name": "stdout",
     "output_type": "stream",
     "text": [
      "[[6 5 6 8 6]\n",
      " [3 6 7 2 5]\n",
      " [1 6 5 2 5]\n",
      " [2 7 6 3 5]]\n",
      "\n",
      "[[2 4 1 2 1]\n",
      " [6 1 9 9 9]\n",
      " [7 9 6 4 1]\n",
      " [1 6 9 3 5]]\n",
      "\n",
      "[[ True  True  True  True  True]\n",
      " [False  True False False False]\n",
      " [False False False False  True]\n",
      " [ True  True False False False]]\n"
     ]
    }
   ],
   "source": [
    "a = np.random.randint(1,10,(4,5))\n",
    "print(a)\n",
    "print()\n",
    "b = np.random.randint(1,10,(4,5))\n",
    "print(b)\n",
    "print()\n",
    "print(a > b)"
   ]
  },
  {
   "cell_type": "code",
   "execution_count": 43,
   "id": "5acb994c",
   "metadata": {},
   "outputs": [
    {
     "data": {
      "text/plain": [
       "array([[8, 5, 8, 4, 3, 6, 6],\n",
       "       [7, 8, 3, 7, 1, 3, 4],\n",
       "       [9, 6, 4, 6, 1, 3, 8],\n",
       "       [9, 3, 9, 7, 6, 7, 4],\n",
       "       [8, 5, 1, 5, 2, 4, 3],\n",
       "       [1, 6, 5, 2, 4, 9, 4],\n",
       "       [3, 1, 6, 6, 8, 3, 8]])"
      ]
     },
     "execution_count": 43,
     "metadata": {},
     "output_type": "execute_result"
    }
   ],
   "source": [
    "m = np.random.randint(1,10,(7,7))\n",
    "m"
   ]
  },
  {
   "cell_type": "code",
   "execution_count": 44,
   "id": "5dbb4f01",
   "metadata": {},
   "outputs": [
    {
     "data": {
      "text/plain": [
       "array([[8, 3, 7, 1, 3],\n",
       "       [6, 4, 6, 1, 3],\n",
       "       [3, 9, 7, 6, 7],\n",
       "       [5, 1, 5, 2, 4],\n",
       "       [6, 5, 2, 4, 9]])"
      ]
     },
     "execution_count": 44,
     "metadata": {},
     "output_type": "execute_result"
    }
   ],
   "source": [
    "m[1:-1,1:-1]"
   ]
  },
  {
   "cell_type": "code",
   "execution_count": 45,
   "id": "b567e787",
   "metadata": {},
   "outputs": [
    {
     "data": {
      "text/plain": [
       "array([[6, 4, 9, 4, 3],\n",
       "       [8, 4, 1, 6, 2],\n",
       "       [7, 6, 4, 7, 1],\n",
       "       [8, 7, 2, 3, 8],\n",
       "       [9, 8, 1, 8, 3]])"
      ]
     },
     "execution_count": 45,
     "metadata": {},
     "output_type": "execute_result"
    }
   ],
   "source": [
    "m = np.random.randint(1,10,(5,5))\n",
    "m"
   ]
  },
  {
   "cell_type": "code",
   "execution_count": 46,
   "id": "1373d2bd",
   "metadata": {},
   "outputs": [
    {
     "data": {
      "text/plain": [
       "array([ True, False, False,  True,  True])"
      ]
     },
     "execution_count": 46,
     "metadata": {},
     "output_type": "execute_result"
    }
   ],
   "source": [
    "arr = np.array([\"A\",\"B\",\"C\",\"A\",\"A\"])\n",
    "arr == \"A\""
   ]
  },
  {
   "cell_type": "code",
   "execution_count": 47,
   "id": "e43d2a6e",
   "metadata": {},
   "outputs": [
    {
     "data": {
      "text/plain": [
       "array([[6, 4, 9, 4, 3],\n",
       "       [8, 7, 2, 3, 8],\n",
       "       [9, 8, 1, 8, 3]])"
      ]
     },
     "execution_count": 47,
     "metadata": {},
     "output_type": "execute_result"
    }
   ],
   "source": [
    "m[arr=='A']"
   ]
  },
  {
   "cell_type": "code",
   "execution_count": 48,
   "id": "18c989f8",
   "metadata": {},
   "outputs": [
    {
     "data": {
      "text/plain": [
       "array([[8, 4, 1, 6, 2],\n",
       "       [7, 6, 4, 7, 1],\n",
       "       [8, 7, 2, 3, 8]])"
      ]
     },
     "execution_count": 48,
     "metadata": {},
     "output_type": "execute_result"
    }
   ],
   "source": [
    "m[[1,2,3]]"
   ]
  },
  {
   "cell_type": "code",
   "execution_count": 49,
   "id": "d142d246",
   "metadata": {},
   "outputs": [
    {
     "data": {
      "text/plain": [
       "array([4, 2])"
      ]
     },
     "execution_count": 49,
     "metadata": {},
     "output_type": "execute_result"
    }
   ],
   "source": [
    "m[[0,1],[3,4]]"
   ]
  },
  {
   "cell_type": "code",
   "execution_count": 50,
   "id": "75cb4ebe",
   "metadata": {},
   "outputs": [
    {
     "data": {
      "text/plain": [
       "129"
      ]
     },
     "execution_count": 50,
     "metadata": {},
     "output_type": "execute_result"
    }
   ],
   "source": [
    "m.sum()"
   ]
  },
  {
   "cell_type": "code",
   "execution_count": 51,
   "id": "ad113e26",
   "metadata": {},
   "outputs": [
    {
     "data": {
      "text/plain": [
       "129"
      ]
     },
     "execution_count": 51,
     "metadata": {},
     "output_type": "execute_result"
    }
   ],
   "source": [
    "np.sum(m)"
   ]
  },
  {
   "cell_type": "code",
   "execution_count": 53,
   "id": "57fe3955",
   "metadata": {},
   "outputs": [
    {
     "data": {
      "text/plain": [
       "array([[4.03428793e+02, 1.48413159e+02, 4.03428793e+02, 2.98095799e+03,\n",
       "        4.03428793e+02],\n",
       "       [2.00855369e+01, 4.03428793e+02, 1.09663316e+03, 7.38905610e+00,\n",
       "        1.48413159e+02],\n",
       "       [2.71828183e+00, 4.03428793e+02, 1.48413159e+02, 7.38905610e+00,\n",
       "        1.48413159e+02],\n",
       "       [7.38905610e+00, 1.09663316e+03, 4.03428793e+02, 2.00855369e+01,\n",
       "        1.48413159e+02]])"
      ]
     },
     "execution_count": 53,
     "metadata": {},
     "output_type": "execute_result"
    }
   ],
   "source": [
    "np.exp(a)"
   ]
  },
  {
   "cell_type": "code",
   "execution_count": 54,
   "id": "02eb2772",
   "metadata": {},
   "outputs": [
    {
     "data": {
      "text/plain": [
       "array([6, 2, 5, 4, 2, 7, 2, 4, 1, 1, 5, 7, 1, 2, 2, 3, 2, 8, 6, 2])"
      ]
     },
     "execution_count": 54,
     "metadata": {},
     "output_type": "execute_result"
    }
   ],
   "source": [
    "m = np.random.randint(1,10,20)\n",
    "m"
   ]
  },
  {
   "cell_type": "code",
   "execution_count": 55,
   "id": "5dd0d51c",
   "metadata": {},
   "outputs": [
    {
     "data": {
      "text/plain": [
       "array([4, 1, 8, 9, 2, 4, 2, 9, 1, 2, 7, 7, 3, 8, 4, 6, 7, 6, 4, 5])"
      ]
     },
     "execution_count": 55,
     "metadata": {},
     "output_type": "execute_result"
    }
   ],
   "source": [
    "m2 = np.random.randint(1,10,20)\n",
    "m2"
   ]
  },
  {
   "cell_type": "code",
   "execution_count": 57,
   "id": "53fa5c6c",
   "metadata": {},
   "outputs": [
    {
     "data": {
      "text/plain": [
       "array([6, 2, 8, 9, 2, 7, 2, 9, 1, 2, 7, 7, 3, 8, 4, 6, 7, 8, 6, 5])"
      ]
     },
     "execution_count": 57,
     "metadata": {},
     "output_type": "execute_result"
    }
   ],
   "source": [
    "np.maximum(m, m2)"
   ]
  },
  {
   "cell_type": "code",
   "execution_count": 58,
   "id": "abcafff1",
   "metadata": {},
   "outputs": [
    {
     "data": {
      "text/plain": [
       "array([4, 1, 5, 4, 2, 4, 2, 4, 1, 1, 5, 7, 1, 2, 2, 3, 2, 6, 4, 2])"
      ]
     },
     "execution_count": 58,
     "metadata": {},
     "output_type": "execute_result"
    }
   ],
   "source": [
    "np.minimum(m, m2)"
   ]
  },
  {
   "cell_type": "code",
   "execution_count": 61,
   "id": "e047569a",
   "metadata": {},
   "outputs": [],
   "source": [
    "n = np.random.randn(20)"
   ]
  },
  {
   "cell_type": "code",
   "execution_count": 64,
   "id": "0b894850",
   "metadata": {},
   "outputs": [
    {
     "data": {
      "text/plain": [
       "array([ 49.51040296,  39.69031991,  79.39054633, 132.69762966,\n",
       "        21.73517397, 112.86855889,  34.6774493 , 151.02112425,\n",
       "        93.60421166,  56.76326136, 110.17825321, 336.83990863,\n",
       "       115.3019069 ,  96.11133344,  49.81389118,  34.20558854,\n",
       "       200.67396615,  64.54727031, 121.48190909,  79.25110431])"
      ]
     },
     "execution_count": 64,
     "metadata": {},
     "output_type": "execute_result"
    }
   ],
   "source": [
    "n= n * 10\n",
    "n = np.abs(n)\n",
    "n"
   ]
  },
  {
   "cell_type": "code",
   "execution_count": 65,
   "id": "b5e2609f",
   "metadata": {},
   "outputs": [],
   "source": [
    "a = np.round(n,2)"
   ]
  },
  {
   "cell_type": "code",
   "execution_count": 66,
   "id": "e24d6e02",
   "metadata": {},
   "outputs": [
    {
     "data": {
      "text/plain": [
       "array([ 49.51,  39.69,  79.39, 132.7 ,  21.74, 112.87,  34.68, 151.02,\n",
       "        93.6 ,  56.76, 110.18, 336.84, 115.3 ,  96.11,  49.81,  34.21,\n",
       "       200.67,  64.55, 121.48,  79.25])"
      ]
     },
     "execution_count": 66,
     "metadata": {},
     "output_type": "execute_result"
    }
   ],
   "source": [
    "a"
   ]
  },
  {
   "cell_type": "code",
   "execution_count": 67,
   "id": "b6e5727c",
   "metadata": {},
   "outputs": [
    {
     "data": {
      "text/plain": [
       "array([ 50.,  40.,  80., 133.,  22., 113.,  35., 152.,  94.,  57., 111.,\n",
       "       337., 116.,  97.,  50.,  35., 201.,  65., 122.,  80.])"
      ]
     },
     "execution_count": 67,
     "metadata": {},
     "output_type": "execute_result"
    }
   ],
   "source": [
    "np.ceil(n)"
   ]
  },
  {
   "cell_type": "code",
   "execution_count": 68,
   "id": "2a4fe543",
   "metadata": {},
   "outputs": [
    {
     "data": {
      "text/plain": [
       "array([ 49.,  39.,  79., 132.,  21., 112.,  34., 151.,  93.,  56., 110.,\n",
       "       336., 115.,  96.,  49.,  34., 200.,  64., 121.,  79.])"
      ]
     },
     "execution_count": 68,
     "metadata": {},
     "output_type": "execute_result"
    }
   ],
   "source": [
    "np.floor(n)"
   ]
  },
  {
   "cell_type": "code",
   "execution_count": null,
   "id": "e7e126dd",
   "metadata": {},
   "outputs": [],
   "source": []
  }
 ],
 "metadata": {
  "kernelspec": {
   "display_name": "Python 3 (ipykernel)",
   "language": "python",
   "name": "python3"
  },
  "language_info": {
   "codemirror_mode": {
    "name": "ipython",
    "version": 3
   },
   "file_extension": ".py",
   "mimetype": "text/x-python",
   "name": "python",
   "nbconvert_exporter": "python",
   "pygments_lexer": "ipython3",
   "version": "3.8.5"
  }
 },
 "nbformat": 4,
 "nbformat_minor": 5
}
